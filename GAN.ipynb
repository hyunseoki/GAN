{
  "nbformat": 4,
  "nbformat_minor": 0,
  "metadata": {
    "colab": {
      "provenance": [],
      "authorship_tag": "ABX9TyOuHc+i7DPtHhDqa/4uufak",
      "include_colab_link": true
    },
    "kernelspec": {
      "name": "python3",
      "display_name": "Python 3"
    },
    "language_info": {
      "name": "python"
    },
    "accelerator": "GPU",
    "gpuClass": "standard"
  },
  "cells": [
    {
      "cell_type": "markdown",
      "metadata": {
        "id": "view-in-github",
        "colab_type": "text"
      },
      "source": [
        "<a href=\"https://colab.research.google.com/github/hyunseoki/GAN/blob/main/GAN.ipynb\" target=\"_parent\"><img src=\"https://colab.research.google.com/assets/colab-badge.svg\" alt=\"Open In Colab\"/></a>"
      ]
    },
    {
      "cell_type": "code",
      "execution_count": null,
      "metadata": {
        "id": "1g8AIh7zBl2w"
      },
      "outputs": [],
      "source": [
        "import torch\n",
        "import torch.nn as nn\n",
        "\n",
        "from torchvision import datasets\n",
        "import torchvision.transforms as transforms\n",
        "from torchvision.utils import save_image\n",
        "\n",
        "import matplotlib.pyplot as plt"
      ]
    },
    {
      "cell_type": "code",
      "source": [
        "latent_dim = 100\n",
        "lr = 0.0002"
      ],
      "metadata": {
        "id": "zlSg2_HDCcXh"
      },
      "execution_count": null,
      "outputs": []
    },
    {
      "cell_type": "code",
      "source": [
        "class Generator(nn.Module):\n",
        "    def __init__(self, latent_dim):\n",
        "        super().__init__()\n",
        "\n",
        "        def block(input_dim, output_dim, normalize=True):\n",
        "            layers = [nn.Linear(input_dim, output_dim)]\n",
        "            if normalize:\n",
        "                layers.append(nn.BatchNorm1d(output_dim))\n",
        "            layers.append(nn.LeakyReLU())\n",
        "            return layers\n",
        "        \n",
        "        self.model = nn.Sequential(\n",
        "            *block(latent_dim, 128, normalize=False), ## unpacking\n",
        "            *block(128, 256),\n",
        "            *block(256, 512),\n",
        "            *block(512, 1024),\n",
        "            nn.Linear(1024, 1 * 28 * 28),\n",
        "            nn.Tanh()\n",
        "        )\n",
        "\n",
        "    def forward(self, z):\n",
        "        img = self.model(z)\n",
        "        img = img.view(img.size(0), 1, 28, 28)\n",
        "        return img\n",
        "\n",
        "\n",
        "class Discriminator(nn.Module):\n",
        "    def __init__(self):\n",
        "        super().__init__()\n",
        "\n",
        "        self. model = nn.Sequential(\n",
        "            nn.Linear(1 * 28 * 28, 512),\n",
        "            nn.LeakyReLU(0.2, inplace=True),\n",
        "            nn.Linear(512, 256),\n",
        "            nn.LeakyReLU(0.2, inplace=True),\n",
        "            nn.Linear(256, 1),\n",
        "            nn.Sigmoid(),\n",
        "        )\n",
        "\n",
        "    def forward(self, img):\n",
        "        flatten = img.view(img.size(0), -1)\n",
        "        out = self.model(flatten)\n",
        "\n",
        "        return out"
      ],
      "metadata": {
        "id": "l9fMPHvJCWik"
      },
      "execution_count": null,
      "outputs": []
    },
    {
      "cell_type": "code",
      "source": [
        "transforms_train = transforms.Compose([\n",
        "    transforms.Resize(28),\n",
        "    transforms.ToTensor(),\n",
        "    transforms.Normalize([0.5], [0.5])\n",
        "])\n",
        "\n",
        "train_dataset = datasets.MNIST(root=\"./dataset\", train=True, download=True, transform=transforms_train)\n",
        "dataloader = torch.utils.data.DataLoader(train_dataset, batch_size=128, shuffle=True, num_workers=4)"
      ],
      "metadata": {
        "colab": {
          "base_uri": "https://localhost:8080/"
        },
        "id": "_2exLXyyeMlf",
        "outputId": "7d149216-b57e-4fb1-dcad-7a674ff5e03b"
      },
      "execution_count": null,
      "outputs": [
        {
          "output_type": "stream",
          "name": "stderr",
          "text": [
            "/usr/local/lib/python3.9/dist-packages/torch/utils/data/dataloader.py:561: UserWarning: This DataLoader will create 4 worker processes in total. Our suggested max number of worker in current system is 2, which is smaller than what this DataLoader is going to create. Please be aware that excessive worker creation might get DataLoader running slow or even freeze, lower the worker number to avoid potential slowness/freeze if necessary.\n",
            "  warnings.warn(_create_warning_msg(\n"
          ]
        }
      ]
    },
    {
      "cell_type": "code",
      "source": [
        "generator = Generator(latent_dim=100)\n",
        "discriminator = Discriminator()\n",
        "\n",
        "generator.cuda()\n",
        "discriminator.cuda()\n",
        "\n",
        "adversarial_loss = nn.BCELoss()\n",
        "adversarial_loss.cuda()\n",
        "\n",
        "optimizer_G = torch.optim.Adam(generator.parameters(), lr=lr, betas=(0.5, 0.999))\n",
        "optimizer_D = torch.optim.Adam(discriminator.parameters(), lr=lr, betas=(0.5, 0.999))"
      ],
      "metadata": {
        "id": "L8NY7i-8GR6b"
      },
      "execution_count": null,
      "outputs": []
    },
    {
      "cell_type": "code",
      "source": [
        "z = torch.normal(mean=0, std=1, size=(128, latent_dim))\n",
        "plt.hist(z)\n",
        "plt.show()"
      ],
      "metadata": {
        "colab": {
          "base_uri": "https://localhost:8080/",
          "height": 430
        },
        "id": "4LdG9S2Cf8TM",
        "outputId": "7b98032f-d694-4290-d23f-8a875cc7ee45"
      },
      "execution_count": null,
      "outputs": [
        {
          "output_type": "display_data",
          "data": {
            "text/plain": [
              "<Figure size 640x480 with 1 Axes>"
            ],
            "image/png": "[encoded data removed]"
          },
          "metadata": {}
        }
      ]
    },
    {
      "cell_type": "code",
      "source": [
        "import time\n",
        "\n",
        "n_epochs = 200\n",
        "sample_interval = 2000\n",
        "start_time = time.time()\n",
        "\n",
        "for epoch in range(n_epochs):\n",
        "    for i, (imgs, _) in enumerate(dataloader):\n",
        "        real = torch.cuda.FloatTensor(imgs.size(0), 1).fill_(1.0) # 진짜(real): 1\n",
        "        fake = torch.cuda.FloatTensor(imgs.size(0), 1).fill_(0.0) # 가짜(fake): 0\n",
        "\n",
        "        real_imgs = imgs.cuda()\n",
        "        z = torch.normal(mean=0, std=1, size=(imgs.shape[0], latent_dim)).cuda()\n",
        "\n",
        "        ''' Generator ''' \n",
        "        optimizer_G.zero_grad()        \n",
        "        generated_imgs = generator(z)\n",
        "        g_loss = adversarial_loss(discriminator(generated_imgs), real)\n",
        "        g_loss.backward()\n",
        "        optimizer_G.step()\n",
        "\n",
        "        ''' Discriminator ''' \n",
        "        optimizer_D.zero_grad()\n",
        "        real_loss = adversarial_loss(discriminator(real_imgs), real)\n",
        "        fake_loss = adversarial_loss(discriminator(generated_imgs.detach()), fake)\n",
        "        d_loss = real_loss + fake_loss\n",
        "\n",
        "        d_loss.backward()\n",
        "        optimizer_D.step()\n",
        "\n",
        "        done = epoch * len(dataloader) + i\n",
        "        if done % sample_interval == 0:\n",
        "            save_image(generated_imgs.data[:25], f\"{done}.png\", nrow=5, normalize=True)\n",
        "            \n",
        "    print(f\"[Epoch {epoch}/{n_epochs}] [D loss: {d_loss.item():.6f}] [G loss: {g_loss.item():.6f}] [Elapsed time: {time.time() - start_time:.2f}s]\")"
      ],
      "metadata": {
        "colab": {
          "base_uri": "https://localhost:8080/"
        },
        "id": "dVKlHqzbeIOU",
        "outputId": "54badc35-6eb4-4d65-e8b6-996fee3d5874"
      },
      "execution_count": null,
      "outputs": [
        {
          "output_type": "stream",
          "name": "stdout",
          "text": [
            "[Epoch 0/200] [D loss: 0.669869] [G loss: 2.214885] [Elapsed time: 17.60s]\n",
            "[Epoch 1/200] [D loss: 0.371743] [G loss: 1.933373] [Elapsed time: 34.22s]\n",
            "[Epoch 2/200] [D loss: 0.473400] [G loss: 1.681514] [Elapsed time: 52.52s]\n",
            "[Epoch 3/200] [D loss: 0.452691] [G loss: 2.046515] [Elapsed time: 69.97s]\n",
            "[Epoch 4/200] [D loss: 0.461675] [G loss: 0.725202] [Elapsed time: 86.36s]\n",
            "[Epoch 5/200] [D loss: 1.028056] [G loss: 3.167903] [Elapsed time: 103.08s]\n",
            "[Epoch 6/200] [D loss: 0.447604] [G loss: 1.505370] [Elapsed time: 120.83s]\n",
            "[Epoch 7/200] [D loss: 0.457216] [G loss: 2.249043] [Elapsed time: 137.17s]\n",
            "[Epoch 8/200] [D loss: 0.546006] [G loss: 0.593914] [Elapsed time: 153.65s]\n",
            "[Epoch 9/200] [D loss: 0.538484] [G loss: 1.870672] [Elapsed time: 170.61s]\n",
            "[Epoch 10/200] [D loss: 0.392694] [G loss: 1.280941] [Elapsed time: 187.89s]\n",
            "[Epoch 11/200] [D loss: 0.378539] [G loss: 1.440861] [Elapsed time: 204.28s]\n",
            "[Epoch 12/200] [D loss: 0.567765] [G loss: 0.701532] [Elapsed time: 220.66s]\n",
            "[Epoch 13/200] [D loss: 0.385128] [G loss: 1.139576] [Elapsed time: 238.12s]\n",
            "[Epoch 14/200] [D loss: 0.457344] [G loss: 1.400397] [Elapsed time: 254.60s]\n",
            "[Epoch 15/200] [D loss: 0.724966] [G loss: 2.404354] [Elapsed time: 271.01s]\n",
            "[Epoch 16/200] [D loss: 0.444405] [G loss: 1.745823] [Elapsed time: 287.86s]\n",
            "[Epoch 17/200] [D loss: 0.415600] [G loss: 1.852997] [Elapsed time: 304.71s]\n",
            "[Epoch 18/200] [D loss: 0.369239] [G loss: 1.347841] [Elapsed time: 320.85s]\n",
            "[Epoch 19/200] [D loss: 0.335791] [G loss: 1.133866] [Elapsed time: 337.24s]\n",
            "[Epoch 20/200] [D loss: 0.395685] [G loss: 1.127650] [Elapsed time: 354.80s]\n",
            "[Epoch 21/200] [D loss: 0.375660] [G loss: 1.309509] [Elapsed time: 371.18s]\n",
            "[Epoch 22/200] [D loss: 0.581668] [G loss: 2.023342] [Elapsed time: 387.64s]\n",
            "[Epoch 23/200] [D loss: 0.471634] [G loss: 0.895036] [Elapsed time: 404.42s]\n",
            "[Epoch 24/200] [D loss: 0.478240] [G loss: 1.255973] [Elapsed time: 422.08s]\n",
            "[Epoch 25/200] [D loss: 0.421133] [G loss: 1.789762] [Elapsed time: 438.61s]\n",
            "[Epoch 26/200] [D loss: 0.428754] [G loss: 1.187759] [Elapsed time: 455.15s]\n",
            "[Epoch 27/200] [D loss: 0.422315] [G loss: 1.452663] [Elapsed time: 472.80s]\n",
            "[Epoch 28/200] [D loss: 0.396739] [G loss: 1.372889] [Elapsed time: 489.23s]\n",
            "[Epoch 29/200] [D loss: 0.548674] [G loss: 1.580762] [Elapsed time: 505.75s]\n",
            "[Epoch 30/200] [D loss: 0.461847] [G loss: 1.322618] [Elapsed time: 522.84s]\n",
            "[Epoch 31/200] [D loss: 0.470803] [G loss: 1.221257] [Elapsed time: 539.65s]\n",
            "[Epoch 32/200] [D loss: 0.436726] [G loss: 0.922154] [Elapsed time: 556.10s]\n",
            "[Epoch 33/200] [D loss: 0.431316] [G loss: 2.181729] [Elapsed time: 572.58s]\n",
            "[Epoch 34/200] [D loss: 0.510502] [G loss: 2.203135] [Elapsed time: 590.46s]\n",
            "[Epoch 35/200] [D loss: 0.434343] [G loss: 1.048927] [Elapsed time: 607.00s]\n",
            "[Epoch 36/200] [D loss: 0.485761] [G loss: 1.039871] [Elapsed time: 623.54s]\n",
            "[Epoch 37/200] [D loss: 0.425897] [G loss: 1.638630] [Elapsed time: 640.64s]\n",
            "[Epoch 38/200] [D loss: 0.356892] [G loss: 1.264547] [Elapsed time: 657.73s]\n",
            "[Epoch 39/200] [D loss: 0.397543] [G loss: 1.178841] [Elapsed time: 674.34s]\n",
            "[Epoch 40/200] [D loss: 0.388204] [G loss: 1.043045] [Elapsed time: 690.97s]\n",
            "[Epoch 41/200] [D loss: 0.512895] [G loss: 0.946302] [Elapsed time: 708.24s]\n",
            "[Epoch 42/200] [D loss: 0.422707] [G loss: 1.074053] [Elapsed time: 724.72s]\n",
            "[Epoch 43/200] [D loss: 0.481952] [G loss: 0.799319] [Elapsed time: 741.37s]\n",
            "[Epoch 44/200] [D loss: 0.565451] [G loss: 0.730614] [Elapsed time: 758.98s]\n",
            "[Epoch 45/200] [D loss: 0.478739] [G loss: 1.055924] [Elapsed time: 775.48s]\n",
            "[Epoch 46/200] [D loss: 0.400062] [G loss: 1.796166] [Elapsed time: 792.06s]\n",
            "[Epoch 47/200] [D loss: 0.352782] [G loss: 1.160139] [Elapsed time: 809.13s]\n",
            "[Epoch 48/200] [D loss: 0.378890] [G loss: 1.383519] [Elapsed time: 825.99s]\n",
            "[Epoch 49/200] [D loss: 0.554421] [G loss: 2.332313] [Elapsed time: 842.48s]\n",
            "[Epoch 50/200] [D loss: 0.482854] [G loss: 1.454012] [Elapsed time: 859.02s]\n",
            "[Epoch 51/200] [D loss: 0.474897] [G loss: 1.017435] [Elapsed time: 876.70s]\n",
            "[Epoch 52/200] [D loss: 0.439646] [G loss: 1.280630] [Elapsed time: 893.35s]\n",
            "[Epoch 53/200] [D loss: 0.482998] [G loss: 2.300161] [Elapsed time: 909.91s]\n",
            "[Epoch 54/200] [D loss: 0.465501] [G loss: 1.153312] [Elapsed time: 927.52s]\n",
            "[Epoch 55/200] [D loss: 0.451592] [G loss: 1.986194] [Elapsed time: 943.93s]\n",
            "[Epoch 56/200] [D loss: 0.622897] [G loss: 1.840682] [Elapsed time: 960.50s]\n",
            "[Epoch 57/200] [D loss: 0.439102] [G loss: 1.183789] [Elapsed time: 977.19s]\n",
            "[Epoch 58/200] [D loss: 0.526204] [G loss: 1.917713] [Elapsed time: 994.61s]\n",
            "[Epoch 59/200] [D loss: 0.444058] [G loss: 1.300873] [Elapsed time: 1011.01s]\n",
            "[Epoch 60/200] [D loss: 0.508298] [G loss: 1.725493] [Elapsed time: 1027.40s]\n",
            "[Epoch 61/200] [D loss: 0.400046] [G loss: 1.275861] [Elapsed time: 1044.80s]\n",
            "[Epoch 62/200] [D loss: 0.467213] [G loss: 0.872211] [Elapsed time: 1061.37s]\n",
            "[Epoch 63/200] [D loss: 0.441979] [G loss: 1.099304] [Elapsed time: 1077.92s]\n",
            "[Epoch 64/200] [D loss: 0.538022] [G loss: 1.893516] [Elapsed time: 1094.90s]\n",
            "[Epoch 65/200] [D loss: 0.617483] [G loss: 2.827842] [Elapsed time: 1112.08s]\n",
            "[Epoch 66/200] [D loss: 0.399857] [G loss: 1.423695] [Elapsed time: 1128.48s]\n",
            "[Epoch 67/200] [D loss: 0.433419] [G loss: 1.585261] [Elapsed time: 1145.14s]\n",
            "[Epoch 68/200] [D loss: 0.498919] [G loss: 1.018207] [Elapsed time: 1162.56s]\n",
            "[Epoch 69/200] [D loss: 0.467962] [G loss: 0.947459] [Elapsed time: 1179.01s]\n",
            "[Epoch 70/200] [D loss: 0.357685] [G loss: 1.689937] [Elapsed time: 1195.25s]\n",
            "[Epoch 71/200] [D loss: 0.353490] [G loss: 1.678974] [Elapsed time: 1212.55s]\n",
            "[Epoch 72/200] [D loss: 0.451071] [G loss: 1.143174] [Elapsed time: 1229.62s]\n",
            "[Epoch 73/200] [D loss: 0.345816] [G loss: 1.681018] [Elapsed time: 1246.05s]\n",
            "[Epoch 74/200] [D loss: 0.428945] [G loss: 1.519168] [Elapsed time: 1262.45s]\n",
            "[Epoch 75/200] [D loss: 0.427511] [G loss: 1.690653] [Elapsed time: 1280.11s]\n",
            "[Epoch 76/200] [D loss: 0.378312] [G loss: 1.273113] [Elapsed time: 1296.66s]\n",
            "[Epoch 77/200] [D loss: 0.398144] [G loss: 1.160076] [Elapsed time: 1313.36s]\n",
            "[Epoch 78/200] [D loss: 0.493109] [G loss: 1.961172] [Elapsed time: 1330.79s]\n",
            "[Epoch 79/200] [D loss: 0.360399] [G loss: 1.631617] [Elapsed time: 1347.18s]\n",
            "[Epoch 80/200] [D loss: 0.524357] [G loss: 1.901461] [Elapsed time: 1363.63s]\n",
            "[Epoch 81/200] [D loss: 0.474904] [G loss: 1.128010] [Elapsed time: 1380.30s]\n",
            "[Epoch 82/200] [D loss: 0.430926] [G loss: 1.442078] [Elapsed time: 1397.61s]\n",
            "[Epoch 83/200] [D loss: 0.279049] [G loss: 1.856249] [Elapsed time: 1414.11s]\n",
            "[Epoch 84/200] [D loss: 0.383383] [G loss: 1.392871] [Elapsed time: 1430.69s]\n",
            "[Epoch 85/200] [D loss: 0.393136] [G loss: 1.246347] [Elapsed time: 1448.13s]\n",
            "[Epoch 86/200] [D loss: 0.426919] [G loss: 1.167512] [Elapsed time: 1464.47s]\n",
            "[Epoch 87/200] [D loss: 0.452193] [G loss: 1.389641] [Elapsed time: 1481.11s]\n",
            "[Epoch 88/200] [D loss: 0.389410] [G loss: 1.446029] [Elapsed time: 1498.80s]\n",
            "[Epoch 89/200] [D loss: 0.409355] [G loss: 2.108194] [Elapsed time: 1515.82s]\n",
            "[Epoch 90/200] [D loss: 0.395193] [G loss: 1.249779] [Elapsed time: 1532.56s]\n",
            "[Epoch 91/200] [D loss: 0.357437] [G loss: 1.682673] [Elapsed time: 1549.45s]\n",
            "[Epoch 92/200] [D loss: 0.390061] [G loss: 1.639147] [Elapsed time: 1566.91s]\n",
            "[Epoch 93/200] [D loss: 0.448969] [G loss: 1.569359] [Elapsed time: 1583.45s]\n",
            "[Epoch 94/200] [D loss: 0.445163] [G loss: 1.423736] [Elapsed time: 1600.27s]\n",
            "[Epoch 95/200] [D loss: 0.442515] [G loss: 2.777708] [Elapsed time: 1618.01s]\n",
            "[Epoch 96/200] [D loss: 0.375019] [G loss: 1.959703] [Elapsed time: 1635.38s]\n",
            "[Epoch 97/200] [D loss: 0.384862] [G loss: 1.835678] [Elapsed time: 1652.22s]\n",
            "[Epoch 98/200] [D loss: 0.472832] [G loss: 1.368014] [Elapsed time: 1670.12s]\n",
            "[Epoch 99/200] [D loss: 0.365484] [G loss: 2.203395] [Elapsed time: 1686.90s]\n",
            "[Epoch 100/200] [D loss: 0.378974] [G loss: 1.352701] [Elapsed time: 1703.54s]\n",
            "[Epoch 101/200] [D loss: 0.404195] [G loss: 1.305151] [Elapsed time: 1721.43s]\n",
            "[Epoch 102/200] [D loss: 0.386225] [G loss: 1.443637] [Elapsed time: 1738.22s]\n",
            "[Epoch 103/200] [D loss: 0.403629] [G loss: 1.176654] [Elapsed time: 1754.85s]\n",
            "[Epoch 104/200] [D loss: 0.464146] [G loss: 1.960177] [Elapsed time: 1771.71s]\n",
            "[Epoch 105/200] [D loss: 0.475526] [G loss: 0.967504] [Elapsed time: 1788.69s]\n",
            "[Epoch 106/200] [D loss: 0.442125] [G loss: 2.545192] [Elapsed time: 1805.21s]\n",
            "[Epoch 107/200] [D loss: 0.383480] [G loss: 2.298788] [Elapsed time: 1821.66s]\n",
            "[Epoch 108/200] [D loss: 0.363537] [G loss: 1.591293] [Elapsed time: 1839.08s]\n",
            "[Epoch 109/200] [D loss: 0.412331] [G loss: 2.110644] [Elapsed time: 1855.53s]\n",
            "[Epoch 110/200] [D loss: 0.394142] [G loss: 1.351802] [Elapsed time: 1872.32s]\n",
            "[Epoch 111/200] [D loss: 0.517725] [G loss: 1.290367] [Elapsed time: 1890.21s]\n",
            "[Epoch 112/200] [D loss: 0.356143] [G loss: 1.848268] [Elapsed time: 1906.89s]\n",
            "[Epoch 113/200] [D loss: 0.471991] [G loss: 1.828362] [Elapsed time: 1923.38s]\n",
            "[Epoch 114/200] [D loss: 0.534047] [G loss: 2.057468] [Elapsed time: 1940.51s]\n",
            "[Epoch 115/200] [D loss: 0.455391] [G loss: 1.534717] [Elapsed time: 1957.28s]\n",
            "[Epoch 116/200] [D loss: 0.416599] [G loss: 2.147197] [Elapsed time: 1973.83s]\n",
            "[Epoch 117/200] [D loss: 0.468250] [G loss: 1.591228] [Elapsed time: 1990.49s]\n",
            "[Epoch 118/200] [D loss: 0.439522] [G loss: 1.057122] [Elapsed time: 2008.40s]\n",
            "[Epoch 119/200] [D loss: 0.423529] [G loss: 1.661108] [Elapsed time: 2025.34s]\n",
            "[Epoch 120/200] [D loss: 0.408069] [G loss: 1.829965] [Elapsed time: 2042.01s]\n",
            "[Epoch 121/200] [D loss: 0.471814] [G loss: 0.823504] [Elapsed time: 2059.58s]\n",
            "[Epoch 122/200] [D loss: 0.389761] [G loss: 1.855944] [Elapsed time: 2076.30s]\n",
            "[Epoch 123/200] [D loss: 0.444112] [G loss: 2.127593] [Elapsed time: 2092.86s]\n",
            "[Epoch 124/200] [D loss: 0.395553] [G loss: 1.974398] [Elapsed time: 2109.42s]\n",
            "[Epoch 125/200] [D loss: 0.463154] [G loss: 1.100512] [Elapsed time: 2126.77s]\n",
            "[Epoch 126/200] [D loss: 0.374913] [G loss: 1.481477] [Elapsed time: 2143.33s]\n",
            "[Epoch 127/200] [D loss: 0.447196] [G loss: 1.927103] [Elapsed time: 2159.84s]\n",
            "[Epoch 128/200] [D loss: 0.386450] [G loss: 1.693151] [Elapsed time: 2177.57s]\n",
            "[Epoch 129/200] [D loss: 0.518378] [G loss: 1.528112] [Elapsed time: 2194.27s]\n",
            "[Epoch 130/200] [D loss: 0.379013] [G loss: 1.750551] [Elapsed time: 2210.77s]\n",
            "[Epoch 131/200] [D loss: 0.376135] [G loss: 2.074178] [Elapsed time: 2227.32s]\n",
            "[Epoch 132/200] [D loss: 0.461057] [G loss: 1.374380] [Elapsed time: 2244.18s]\n",
            "[Epoch 133/200] [D loss: 0.414547] [G loss: 1.355428] [Elapsed time: 2260.44s]\n",
            "[Epoch 134/200] [D loss: 0.376042] [G loss: 1.494448] [Elapsed time: 2276.78s]\n",
            "[Epoch 135/200] [D loss: 0.481373] [G loss: 2.707730] [Elapsed time: 2294.09s]\n",
            "[Epoch 136/200] [D loss: 0.377140] [G loss: 1.660839] [Elapsed time: 2310.54s]\n",
            "[Epoch 137/200] [D loss: 0.508678] [G loss: 1.435497] [Elapsed time: 2327.00s]\n",
            "[Epoch 138/200] [D loss: 0.448090] [G loss: 1.623356] [Elapsed time: 2344.13s]\n",
            "[Epoch 139/200] [D loss: 0.405096] [G loss: 1.627876] [Elapsed time: 2361.09s]\n",
            "[Epoch 140/200] [D loss: 0.342185] [G loss: 1.541314] [Elapsed time: 2377.44s]\n",
            "[Epoch 141/200] [D loss: 0.409347] [G loss: 1.423984] [Elapsed time: 2393.70s]\n",
            "[Epoch 142/200] [D loss: 0.448026] [G loss: 2.272905] [Elapsed time: 2411.06s]\n",
            "[Epoch 143/200] [D loss: 0.547595] [G loss: 0.720549] [Elapsed time: 2427.63s]\n",
            "[Epoch 144/200] [D loss: 0.371945] [G loss: 2.289810] [Elapsed time: 2444.21s]\n",
            "[Epoch 145/200] [D loss: 0.393049] [G loss: 1.277445] [Elapsed time: 2461.31s]\n",
            "[Epoch 146/200] [D loss: 0.430891] [G loss: 1.789277] [Elapsed time: 2477.89s]\n",
            "[Epoch 147/200] [D loss: 0.348109] [G loss: 2.075671] [Elapsed time: 2494.35s]\n",
            "[Epoch 148/200] [D loss: 0.383721] [G loss: 1.474470] [Elapsed time: 2510.66s]\n",
            "[Epoch 149/200] [D loss: 0.612125] [G loss: 2.055048] [Elapsed time: 2528.07s]\n",
            "[Epoch 150/200] [D loss: 0.343269] [G loss: 1.606488] [Elapsed time: 2544.96s]\n",
            "[Epoch 151/200] [D loss: 0.394272] [G loss: 1.850450] [Elapsed time: 2562.11s]\n",
            "[Epoch 152/200] [D loss: 0.394208] [G loss: 1.802759] [Elapsed time: 2580.21s]\n",
            "[Epoch 153/200] [D loss: 0.342149] [G loss: 1.319829] [Elapsed time: 2597.32s]\n",
            "[Epoch 154/200] [D loss: 0.342274] [G loss: 1.788721] [Elapsed time: 2614.42s]\n",
            "[Epoch 155/200] [D loss: 0.380522] [G loss: 1.579135] [Elapsed time: 2632.43s]\n",
            "[Epoch 156/200] [D loss: 0.373493] [G loss: 1.241677] [Elapsed time: 2649.37s]\n",
            "[Epoch 157/200] [D loss: 0.392092] [G loss: 1.263251] [Elapsed time: 2666.53s]\n",
            "[Epoch 158/200] [D loss: 0.367535] [G loss: 1.386968] [Elapsed time: 2684.70s]\n",
            "[Epoch 159/200] [D loss: 0.344044] [G loss: 1.741560] [Elapsed time: 2701.66s]\n",
            "[Epoch 160/200] [D loss: 0.418846] [G loss: 1.458052] [Elapsed time: 2718.48s]\n",
            "[Epoch 161/200] [D loss: 0.502867] [G loss: 1.187150] [Elapsed time: 2736.55s]\n",
            "[Epoch 162/200] [D loss: 0.452799] [G loss: 1.567219] [Elapsed time: 2753.61s]\n",
            "[Epoch 163/200] [D loss: 0.349971] [G loss: 1.591212] [Elapsed time: 2770.70s]\n",
            "[Epoch 164/200] [D loss: 0.344055] [G loss: 1.599516] [Elapsed time: 2788.68s]\n",
            "[Epoch 165/200] [D loss: 0.301926] [G loss: 1.480233] [Elapsed time: 2805.89s]\n",
            "[Epoch 166/200] [D loss: 0.337599] [G loss: 2.009714] [Elapsed time: 2822.88s]\n",
            "[Epoch 167/200] [D loss: 0.420069] [G loss: 1.549206] [Elapsed time: 2841.09s]\n",
            "[Epoch 168/200] [D loss: 0.475895] [G loss: 1.815814] [Elapsed time: 2858.91s]\n",
            "[Epoch 169/200] [D loss: 0.320947] [G loss: 1.908988] [Elapsed time: 2876.42s]\n",
            "[Epoch 170/200] [D loss: 0.378781] [G loss: 1.665539] [Elapsed time: 2894.24s]\n",
            "[Epoch 171/200] [D loss: 0.474035] [G loss: 1.192635] [Elapsed time: 2911.39s]\n",
            "[Epoch 172/200] [D loss: 0.369492] [G loss: 1.639968] [Elapsed time: 2929.05s]\n",
            "[Epoch 173/200] [D loss: 0.350948] [G loss: 1.452923] [Elapsed time: 2946.51s]\n",
            "[Epoch 174/200] [D loss: 0.474498] [G loss: 1.872191] [Elapsed time: 2963.45s]\n",
            "[Epoch 175/200] [D loss: 0.454696] [G loss: 2.062846] [Elapsed time: 2981.04s]\n",
            "[Epoch 176/200] [D loss: 0.410188] [G loss: 1.644712] [Elapsed time: 2998.26s]\n",
            "[Epoch 177/200] [D loss: 0.386542] [G loss: 1.465714] [Elapsed time: 3015.24s]\n",
            "[Epoch 178/200] [D loss: 0.409956] [G loss: 1.382772] [Elapsed time: 3033.03s]\n",
            "[Epoch 179/200] [D loss: 0.345890] [G loss: 1.543019] [Elapsed time: 3050.22s]\n",
            "[Epoch 180/200] [D loss: 0.326094] [G loss: 1.589274] [Elapsed time: 3067.35s]\n",
            "[Epoch 181/200] [D loss: 0.401122] [G loss: 1.441805] [Elapsed time: 3085.97s]\n",
            "[Epoch 182/200] [D loss: 0.438527] [G loss: 1.420006] [Elapsed time: 3103.57s]\n",
            "[Epoch 183/200] [D loss: 0.489964] [G loss: 0.830614] [Elapsed time: 3120.70s]\n",
            "[Epoch 184/200] [D loss: 0.466079] [G loss: 1.905486] [Elapsed time: 3138.97s]\n",
            "[Epoch 185/200] [D loss: 0.359027] [G loss: 1.865479] [Elapsed time: 3156.49s]\n",
            "[Epoch 186/200] [D loss: 0.487942] [G loss: 1.391145] [Elapsed time: 3173.80s]\n",
            "[Epoch 187/200] [D loss: 0.425387] [G loss: 1.326352] [Elapsed time: 3192.21s]\n",
            "[Epoch 188/200] [D loss: 0.368044] [G loss: 1.647131] [Elapsed time: 3209.50s]\n",
            "[Epoch 189/200] [D loss: 0.382752] [G loss: 1.704091] [Elapsed time: 3227.32s]\n",
            "[Epoch 190/200] [D loss: 0.436346] [G loss: 1.474897] [Elapsed time: 3245.52s]\n",
            "[Epoch 191/200] [D loss: 0.380360] [G loss: 1.672670] [Elapsed time: 3262.45s]\n",
            "[Epoch 192/200] [D loss: 0.362348] [G loss: 1.609895] [Elapsed time: 3280.26s]\n",
            "[Epoch 193/200] [D loss: 0.359966] [G loss: 1.896753] [Elapsed time: 3297.54s]\n",
            "[Epoch 194/200] [D loss: 0.432622] [G loss: 1.676543] [Elapsed time: 3314.29s]\n",
            "[Epoch 195/200] [D loss: 0.387410] [G loss: 1.334983] [Elapsed time: 3331.63s]\n",
            "[Epoch 196/200] [D loss: 0.301164] [G loss: 2.394965] [Elapsed time: 3349.19s]\n",
            "[Epoch 197/200] [D loss: 0.412084] [G loss: 1.284680] [Elapsed time: 3366.05s]\n",
            "[Epoch 198/200] [D loss: 0.338188] [G loss: 1.774670] [Elapsed time: 3382.95s]\n",
            "[Epoch 199/200] [D loss: 0.461259] [G loss: 1.786622] [Elapsed time: 3400.47s]\n"
          ]
        }
      ]
    },
    {
      "cell_type": "code",
      "source": [
        "from IPython.display import Image\n",
        "\n",
        "Image('92000.png')"
      ],
      "metadata": {
        "colab": {
          "base_uri": "https://localhost:8080/",
          "height": 169
        },
        "id": "1mblKH5YzIM-",
        "outputId": "9a10c719-e75c-4e1a-f9dc-45d7070873c9"
      },
      "execution_count": null,
      "outputs": [
        {
          "output_type": "execute_result",
          "data": {
            "image/png": "[encoded data removed]",
            "text/plain": [
              "<IPython.core.display.Image object>"
            ]
          },
          "metadata": {},
          "execution_count": 56
        }
      ]
    }
  ]
}